{
 "cells": [
  {
   "cell_type": "markdown",
   "id": "b6f8bfe0-1e54-43f1-a6c2-627cbe688401",
   "metadata": {},
   "source": [
    "# Data Science Tools and Ecosystem"
   ]
  },
  {
   "cell_type": "markdown",
   "id": "af99e095-5354-4cef-87e0-ce7ca1b17bdc",
   "metadata": {},
   "source": [
    "###### In this notebook, Data Science Tools and Ecosystem are summarized."
   ]
  },
  {
   "cell_type": "markdown",
   "id": "15bf1039-02ed-49b5-8868-e2e2b124aff0",
   "metadata": {},
   "source": [
    "###### Some of the popular languages that Data Scientists use are:\n",
    "1. Python\n",
    "2. R\n",
    "3. SQL"
   ]
  },
  {
   "cell_type": "markdown",
   "id": "5185b968-e0a1-4044-a432-5adf483b0951",
   "metadata": {},
   "source": [
    "|Data Science Tools|\n",
    "|------------------|\n",
    "|MySQL             |\n",
    "|PostgreSQL        |\n",
    "|Apache Airflow    |"
   ]
  },
  {
   "cell_type": "markdown",
   "id": "6fae3b1a-93bc-4731-b796-6c5509de8978",
   "metadata": {},
   "source": [
    "###### Some of the commonly used libraries used by Data Scientists include:\n",
    "- NumPy \n",
    "- Matplotlib\n",
    "- TensorFlow\n",
    "- PyTorch\n",
    "\n"
   ]
  },
  {
   "cell_type": "markdown",
   "id": "824aa25f-316c-4607-a2d2-8423cbc69c3b",
   "metadata": {},
   "source": [
    "### Below are a few examples of evaluating arithmetic expressions in Python"
   ]
  },
  {
   "cell_type": "code",
   "execution_count": 1,
   "id": "9c3eed33-f35c-4c20-b709-c942b15b6bf2",
   "metadata": {
    "tags": []
   },
   "outputs": [
    {
     "name": "stdout",
     "output_type": "stream",
     "text": [
      "This a simple arithmetic expression to mutiply then add integers\n"
     ]
    },
    {
     "data": {
      "text/plain": [
       "17"
      ]
     },
     "execution_count": 1,
     "metadata": {},
     "output_type": "execute_result"
    }
   ],
   "source": [
    "print(\"This a simple arithmetic expression to mutiply then add integers\")\n",
    "(3*4)+5"
   ]
  },
  {
   "cell_type": "code",
   "execution_count": 6,
   "id": "e126785d-7264-4fc4-bfd9-c82f164750f1",
   "metadata": {
    "tags": []
   },
   "outputs": [
    {
     "name": "stdout",
     "output_type": "stream",
     "text": [
      "This will convert 200 minutes to hours by diving by 60\n"
     ]
    },
    {
     "data": {
      "text/plain": [
       "3"
      ]
     },
     "execution_count": 6,
     "metadata": {},
     "output_type": "execute_result"
    }
   ],
   "source": [
    "print(\"This will convert 200 minutes to hours by diving by 60\")\n",
    "200//60"
   ]
  },
  {
   "cell_type": "markdown",
   "id": "1e23a47b-422f-4e7f-a107-478ce73abf0d",
   "metadata": {},
   "source": [
    "###### Objectives:\n",
    "- List popular languages for Data Science\n",
    "- Libraries used by Data Scientists\n",
    "- Data Science Tools"
   ]
  },
  {
   "cell_type": "markdown",
   "id": "e705178d-d6e2-42b0-b4a0-586b4b941f62",
   "metadata": {},
   "source": [
    "## Author\n",
    "EL BAGGAR Hasna"
   ]
  },
  {
   "cell_type": "code",
   "execution_count": null,
   "id": "cf2342de-1f3c-411c-9b61-72a97441666f",
   "metadata": {},
   "outputs": [],
   "source": []
  }
 ],
 "metadata": {
  "kernelspec": {
   "display_name": "Python",
   "language": "python",
   "name": "conda-env-python-py"
  },
  "language_info": {
   "codemirror_mode": {
    "name": "ipython",
    "version": 3
   },
   "file_extension": ".py",
   "mimetype": "text/x-python",
   "name": "python",
   "nbconvert_exporter": "python",
   "pygments_lexer": "ipython3",
   "version": "3.7.12"
  }
 },
 "nbformat": 4,
 "nbformat_minor": 5
}
